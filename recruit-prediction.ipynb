{
 "cells": [
  {
   "cell_type": "markdown",
   "id": "f4902df7",
   "metadata": {},
   "source": [
    "## Fisrt try on tabular data and boosting model\n",
    "- I didn't use much time to do this, so there is no emssemble & voting & tuning.."
   ]
  },
  {
   "cell_type": "code",
   "execution_count": 1,
   "id": "32a92e6e",
   "metadata": {
    "_cell_guid": "b1076dfc-b9ad-4769-8c92-a6c4dae69d19",
    "_uuid": "8f2839f25d086af736a60e9eeb907d3b93b6e0e5",
    "execution": {
     "iopub.execute_input": "2022-03-24T05:09:04.261524Z",
     "iopub.status.busy": "2022-03-24T05:09:04.259225Z",
     "iopub.status.idle": "2022-03-24T05:09:04.265617Z",
     "shell.execute_reply": "2022-03-24T05:09:04.266359Z",
     "shell.execute_reply.started": "2022-03-23T18:04:20.504903Z"
    },
    "papermill": {
     "duration": 0.031739,
     "end_time": "2022-03-24T05:09:04.266778",
     "exception": false,
     "start_time": "2022-03-24T05:09:04.235039",
     "status": "completed"
    },
    "tags": []
   },
   "outputs": [],
   "source": [
    "import pandas as pd\n",
    "import numpy as np\n",
    "import os"
   ]
  },
  {
   "cell_type": "code",
   "execution_count": 2,
   "id": "15d9f3d9",
   "metadata": {
    "execution": {
     "iopub.execute_input": "2022-03-24T05:09:04.304930Z",
     "iopub.status.busy": "2022-03-24T05:09:04.304281Z",
     "iopub.status.idle": "2022-03-24T05:09:04.340922Z",
     "shell.execute_reply": "2022-03-24T05:09:04.341617Z",
     "shell.execute_reply.started": "2022-03-23T16:33:46.48015Z"
    },
    "papermill": {
     "duration": 0.056628,
     "end_time": "2022-03-24T05:09:04.341859",
     "exception": false,
     "start_time": "2022-03-24T05:09:04.285231",
     "status": "completed"
    },
    "tags": []
   },
   "outputs": [],
   "source": [
    "BASE_DIR = \"../input/devkor-recruit-prediction\"\n",
    "train_data = pd.read_csv(os.path.join(BASE_DIR, \"train.csv\"))\n",
    "test_data = pd.read_csv(os.path.join(BASE_DIR, \"test.csv\"))"
   ]
  },
  {
   "cell_type": "code",
   "execution_count": 3,
   "id": "9f3c5ccc",
   "metadata": {
    "execution": {
     "iopub.execute_input": "2022-03-24T05:09:04.396551Z",
     "iopub.status.busy": "2022-03-24T05:09:04.395590Z",
     "iopub.status.idle": "2022-03-24T05:09:04.431376Z",
     "shell.execute_reply": "2022-03-24T05:09:04.431820Z",
     "shell.execute_reply.started": "2022-03-23T17:27:50.280964Z"
    },
    "papermill": {
     "duration": 0.069615,
     "end_time": "2022-03-24T05:09:04.431996",
     "exception": false,
     "start_time": "2022-03-24T05:09:04.362381",
     "status": "completed"
    },
    "tags": []
   },
   "outputs": [
    {
     "data": {
      "text/html": [
       "<div>\n",
       "<style scoped>\n",
       "    .dataframe tbody tr th:only-of-type {\n",
       "        vertical-align: middle;\n",
       "    }\n",
       "\n",
       "    .dataframe tbody tr th {\n",
       "        vertical-align: top;\n",
       "    }\n",
       "\n",
       "    .dataframe thead th {\n",
       "        text-align: right;\n",
       "    }\n",
       "</style>\n",
       "<table border=\"1\" class=\"dataframe\">\n",
       "  <thead>\n",
       "    <tr style=\"text-align: right;\">\n",
       "      <th></th>\n",
       "      <th>ID</th>\n",
       "      <th>HW1</th>\n",
       "      <th>HW2</th>\n",
       "      <th>HW3</th>\n",
       "      <th>HW4</th>\n",
       "      <th>HW5</th>\n",
       "      <th>Interview</th>\n",
       "      <th>Pass</th>\n",
       "    </tr>\n",
       "  </thead>\n",
       "  <tbody>\n",
       "    <tr>\n",
       "      <th>count</th>\n",
       "      <td>8000.00000</td>\n",
       "      <td>8000.000000</td>\n",
       "      <td>8000.000000</td>\n",
       "      <td>8000.000000</td>\n",
       "      <td>8000.000000</td>\n",
       "      <td>8000.000000</td>\n",
       "      <td>8000.000000</td>\n",
       "      <td>8000.000000</td>\n",
       "    </tr>\n",
       "    <tr>\n",
       "      <th>mean</th>\n",
       "      <td>3999.50000</td>\n",
       "      <td>5.042775</td>\n",
       "      <td>7.986415</td>\n",
       "      <td>3.607060</td>\n",
       "      <td>6.949719</td>\n",
       "      <td>4.998042</td>\n",
       "      <td>4.992632</td>\n",
       "      <td>0.172250</td>\n",
       "    </tr>\n",
       "    <tr>\n",
       "      <th>std</th>\n",
       "      <td>2309.54541</td>\n",
       "      <td>2.741636</td>\n",
       "      <td>0.972519</td>\n",
       "      <td>3.446848</td>\n",
       "      <td>1.887212</td>\n",
       "      <td>1.009120</td>\n",
       "      <td>1.989098</td>\n",
       "      <td>0.377621</td>\n",
       "    </tr>\n",
       "    <tr>\n",
       "      <th>min</th>\n",
       "      <td>0.00000</td>\n",
       "      <td>0.000000</td>\n",
       "      <td>4.340000</td>\n",
       "      <td>0.000000</td>\n",
       "      <td>0.000000</td>\n",
       "      <td>1.580000</td>\n",
       "      <td>0.000000</td>\n",
       "      <td>0.000000</td>\n",
       "    </tr>\n",
       "    <tr>\n",
       "      <th>25%</th>\n",
       "      <td>1999.75000</td>\n",
       "      <td>3.010000</td>\n",
       "      <td>7.300000</td>\n",
       "      <td>0.000000</td>\n",
       "      <td>5.660000</td>\n",
       "      <td>4.320000</td>\n",
       "      <td>3.640000</td>\n",
       "      <td>0.000000</td>\n",
       "    </tr>\n",
       "    <tr>\n",
       "      <th>50%</th>\n",
       "      <td>3999.50000</td>\n",
       "      <td>5.050000</td>\n",
       "      <td>8.000000</td>\n",
       "      <td>2.900000</td>\n",
       "      <td>7.010000</td>\n",
       "      <td>5.010000</td>\n",
       "      <td>4.990000</td>\n",
       "      <td>0.000000</td>\n",
       "    </tr>\n",
       "    <tr>\n",
       "      <th>75%</th>\n",
       "      <td>5999.25000</td>\n",
       "      <td>7.060000</td>\n",
       "      <td>8.660000</td>\n",
       "      <td>6.360000</td>\n",
       "      <td>8.370000</td>\n",
       "      <td>5.690000</td>\n",
       "      <td>6.350000</td>\n",
       "      <td>0.000000</td>\n",
       "    </tr>\n",
       "    <tr>\n",
       "      <th>max</th>\n",
       "      <td>7999.00000</td>\n",
       "      <td>10.000000</td>\n",
       "      <td>10.000000</td>\n",
       "      <td>10.000000</td>\n",
       "      <td>10.000000</td>\n",
       "      <td>8.750000</td>\n",
       "      <td>10.000000</td>\n",
       "      <td>1.000000</td>\n",
       "    </tr>\n",
       "  </tbody>\n",
       "</table>\n",
       "</div>"
      ],
      "text/plain": [
       "               ID          HW1          HW2          HW3          HW4  \\\n",
       "count  8000.00000  8000.000000  8000.000000  8000.000000  8000.000000   \n",
       "mean   3999.50000     5.042775     7.986415     3.607060     6.949719   \n",
       "std    2309.54541     2.741636     0.972519     3.446848     1.887212   \n",
       "min       0.00000     0.000000     4.340000     0.000000     0.000000   \n",
       "25%    1999.75000     3.010000     7.300000     0.000000     5.660000   \n",
       "50%    3999.50000     5.050000     8.000000     2.900000     7.010000   \n",
       "75%    5999.25000     7.060000     8.660000     6.360000     8.370000   \n",
       "max    7999.00000    10.000000    10.000000    10.000000    10.000000   \n",
       "\n",
       "               HW5    Interview         Pass  \n",
       "count  8000.000000  8000.000000  8000.000000  \n",
       "mean      4.998042     4.992632     0.172250  \n",
       "std       1.009120     1.989098     0.377621  \n",
       "min       1.580000     0.000000     0.000000  \n",
       "25%       4.320000     3.640000     0.000000  \n",
       "50%       5.010000     4.990000     0.000000  \n",
       "75%       5.690000     6.350000     0.000000  \n",
       "max       8.750000    10.000000     1.000000  "
      ]
     },
     "execution_count": 3,
     "metadata": {},
     "output_type": "execute_result"
    }
   ],
   "source": [
    "train_data.describe()"
   ]
  },
  {
   "cell_type": "code",
   "execution_count": 4,
   "id": "d05daf4f",
   "metadata": {
    "execution": {
     "iopub.execute_input": "2022-03-24T05:09:04.464544Z",
     "iopub.status.busy": "2022-03-24T05:09:04.463935Z",
     "iopub.status.idle": "2022-03-24T05:09:05.573360Z",
     "shell.execute_reply": "2022-03-24T05:09:05.572375Z",
     "shell.execute_reply.started": "2022-03-23T16:36:19.03413Z"
    },
    "papermill": {
     "duration": 1.12724,
     "end_time": "2022-03-24T05:09:05.573591",
     "exception": false,
     "start_time": "2022-03-24T05:09:04.446351",
     "status": "completed"
    },
    "tags": []
   },
   "outputs": [],
   "source": [
    "from sklearn.metrics import f1_score\n"
   ]
  },
  {
   "cell_type": "code",
   "execution_count": 5,
   "id": "0b76b6cf",
   "metadata": {
    "execution": {
     "iopub.execute_input": "2022-03-24T05:09:05.626272Z",
     "iopub.status.busy": "2022-03-24T05:09:05.625561Z",
     "iopub.status.idle": "2022-03-24T05:09:06.710559Z",
     "shell.execute_reply": "2022-03-24T05:09:06.709930Z",
     "shell.execute_reply.started": "2022-03-23T17:34:22.126797Z"
    },
    "papermill": {
     "duration": 1.109913,
     "end_time": "2022-03-24T05:09:06.710695",
     "exception": false,
     "start_time": "2022-03-24T05:09:05.600782",
     "status": "completed"
    },
    "tags": []
   },
   "outputs": [
    {
     "data": {
      "text/html": [
       "<style type='text/css'>\n",
       ".datatable table.frame { margin-bottom: 0; }\n",
       ".datatable table.frame thead { border-bottom: none; }\n",
       ".datatable table.frame tr.coltypes td {  color: #FFFFFF;  line-height: 6px;  padding: 0 0.5em;}\n",
       ".datatable .bool    { background: #DDDD99; }\n",
       ".datatable .object  { background: #565656; }\n",
       ".datatable .int     { background: #5D9E5D; }\n",
       ".datatable .float   { background: #4040CC; }\n",
       ".datatable .str     { background: #CC4040; }\n",
       ".datatable .time    { background: #40CC40; }\n",
       ".datatable .row_index {  background: var(--jp-border-color3);  border-right: 1px solid var(--jp-border-color0);  color: var(--jp-ui-font-color3);  font-size: 9px;}\n",
       ".datatable .frame tbody td { text-align: left; }\n",
       ".datatable .frame tr.coltypes .row_index {  background: var(--jp-border-color0);}\n",
       ".datatable th:nth-child(2) { padding-left: 12px; }\n",
       ".datatable .hellipsis {  color: var(--jp-cell-editor-border-color);}\n",
       ".datatable .vellipsis {  background: var(--jp-layout-color0);  color: var(--jp-cell-editor-border-color);}\n",
       ".datatable .na {  color: var(--jp-cell-editor-border-color);  font-size: 80%;}\n",
       ".datatable .sp {  opacity: 0.25;}\n",
       ".datatable .footer { font-size: 9px; }\n",
       ".datatable .frame_dimensions {  background: var(--jp-border-color3);  border-top: 1px solid var(--jp-border-color0);  color: var(--jp-ui-font-color3);  display: inline-block;  opacity: 0.6;  padding: 1px 10px 1px 5px;}\n",
       "</style>\n"
      ],
      "text/plain": [
       "<IPython.core.display.HTML object>"
      ]
     },
     "metadata": {},
     "output_type": "display_data"
    }
   ],
   "source": [
    "from sklearn.tree import DecisionTreeClassifier\n",
    "from sklearn.model_selection import train_test_split\n",
    "from lightgbm import LGBMClassifier\n",
    "from xgboost import XGBClassifier"
   ]
  },
  {
   "cell_type": "code",
   "execution_count": 6,
   "id": "3c72c9ab",
   "metadata": {
    "execution": {
     "iopub.execute_input": "2022-03-24T05:09:06.748841Z",
     "iopub.status.busy": "2022-03-24T05:09:06.748201Z",
     "iopub.status.idle": "2022-03-24T05:09:06.756861Z",
     "shell.execute_reply": "2022-03-24T05:09:06.756289Z",
     "shell.execute_reply.started": "2022-03-23T17:51:50.825585Z"
    },
    "papermill": {
     "duration": 0.031245,
     "end_time": "2022-03-24T05:09:06.757019",
     "exception": false,
     "start_time": "2022-03-24T05:09:06.725774",
     "status": "completed"
    },
    "tags": []
   },
   "outputs": [],
   "source": [
    "target = train_data['Pass']\n",
    "features = train_data.drop('ID', axis = 1, inplace = False).drop('Pass', axis=1, inplace = False)\n",
    "#ID 제거, target 분리\n",
    "\n",
    "X_train, X_test, y_train, y_test = train_test_split(features, target, test_size = 0.2,\n",
    "     random_state = 34, stratify = target)\n",
    "# 'Pass'의 평균값이 0.1로 1의 분포가 훨씬 적으므로 데이터셋을 나눌때 이의 분포도를 맞춰줄 필요가 있다."
   ]
  },
  {
   "cell_type": "code",
   "execution_count": 7,
   "id": "737167b3",
   "metadata": {
    "execution": {
     "iopub.execute_input": "2022-03-24T05:09:06.791477Z",
     "iopub.status.busy": "2022-03-24T05:09:06.790810Z",
     "iopub.status.idle": "2022-03-24T05:09:06.793124Z",
     "shell.execute_reply": "2022-03-24T05:09:06.793515Z",
     "shell.execute_reply.started": "2022-03-23T17:34:24.750546Z"
    },
    "papermill": {
     "duration": 0.022201,
     "end_time": "2022-03-24T05:09:06.793672",
     "exception": false,
     "start_time": "2022-03-24T05:09:06.771471",
     "status": "completed"
    },
    "tags": []
   },
   "outputs": [],
   "source": [
    "dt_clf = DecisionTreeClassifier()\n",
    "lgbm_clf = LGBMClassifier(n_estimators=500)\n",
    "xgb_clf = XGBClassifier(eval_metric = 'logloss')"
   ]
  },
  {
   "cell_type": "code",
   "execution_count": 8,
   "id": "e7538fbc",
   "metadata": {
    "execution": {
     "iopub.execute_input": "2022-03-24T05:09:06.836834Z",
     "iopub.status.busy": "2022-03-24T05:09:06.835857Z",
     "iopub.status.idle": "2022-03-24T05:09:06.839029Z",
     "shell.execute_reply": "2022-03-24T05:09:06.839458Z",
     "shell.execute_reply.started": "2022-03-23T18:03:20.947186Z"
    },
    "papermill": {
     "duration": 0.031442,
     "end_time": "2022-03-24T05:09:06.839615",
     "exception": false,
     "start_time": "2022-03-24T05:09:06.808173",
     "status": "completed"
    },
    "tags": []
   },
   "outputs": [
    {
     "data": {
      "text/html": [
       "<div>\n",
       "<style scoped>\n",
       "    .dataframe tbody tr th:only-of-type {\n",
       "        vertical-align: middle;\n",
       "    }\n",
       "\n",
       "    .dataframe tbody tr th {\n",
       "        vertical-align: top;\n",
       "    }\n",
       "\n",
       "    .dataframe thead th {\n",
       "        text-align: right;\n",
       "    }\n",
       "</style>\n",
       "<table border=\"1\" class=\"dataframe\">\n",
       "  <thead>\n",
       "    <tr style=\"text-align: right;\">\n",
       "      <th></th>\n",
       "      <th>HW1</th>\n",
       "      <th>HW2</th>\n",
       "      <th>HW3</th>\n",
       "      <th>HW4</th>\n",
       "      <th>HW5</th>\n",
       "      <th>Interview</th>\n",
       "    </tr>\n",
       "  </thead>\n",
       "  <tbody>\n",
       "    <tr>\n",
       "      <th>4614</th>\n",
       "      <td>1.89</td>\n",
       "      <td>8.41</td>\n",
       "      <td>0.00</td>\n",
       "      <td>4.37</td>\n",
       "      <td>5.08</td>\n",
       "      <td>5.11</td>\n",
       "    </tr>\n",
       "    <tr>\n",
       "      <th>2853</th>\n",
       "      <td>3.62</td>\n",
       "      <td>8.25</td>\n",
       "      <td>0.00</td>\n",
       "      <td>7.14</td>\n",
       "      <td>5.48</td>\n",
       "      <td>5.44</td>\n",
       "    </tr>\n",
       "    <tr>\n",
       "      <th>590</th>\n",
       "      <td>4.16</td>\n",
       "      <td>6.89</td>\n",
       "      <td>0.00</td>\n",
       "      <td>7.60</td>\n",
       "      <td>5.54</td>\n",
       "      <td>5.14</td>\n",
       "    </tr>\n",
       "    <tr>\n",
       "      <th>7897</th>\n",
       "      <td>7.98</td>\n",
       "      <td>6.78</td>\n",
       "      <td>2.01</td>\n",
       "      <td>7.06</td>\n",
       "      <td>5.13</td>\n",
       "      <td>4.76</td>\n",
       "    </tr>\n",
       "    <tr>\n",
       "      <th>1982</th>\n",
       "      <td>0.00</td>\n",
       "      <td>7.49</td>\n",
       "      <td>0.00</td>\n",
       "      <td>7.21</td>\n",
       "      <td>4.43</td>\n",
       "      <td>3.75</td>\n",
       "    </tr>\n",
       "  </tbody>\n",
       "</table>\n",
       "</div>"
      ],
      "text/plain": [
       "       HW1   HW2   HW3   HW4   HW5  Interview\n",
       "4614  1.89  8.41  0.00  4.37  5.08       5.11\n",
       "2853  3.62  8.25  0.00  7.14  5.48       5.44\n",
       "590   4.16  6.89  0.00  7.60  5.54       5.14\n",
       "7897  7.98  6.78  2.01  7.06  5.13       4.76\n",
       "1982  0.00  7.49  0.00  7.21  4.43       3.75"
      ]
     },
     "execution_count": 8,
     "metadata": {},
     "output_type": "execute_result"
    }
   ],
   "source": [
    "X_train.head()"
   ]
  },
  {
   "cell_type": "code",
   "execution_count": 9,
   "id": "f0afc40f",
   "metadata": {
    "execution": {
     "iopub.execute_input": "2022-03-24T05:09:06.873449Z",
     "iopub.status.busy": "2022-03-24T05:09:06.872840Z",
     "iopub.status.idle": "2022-03-24T05:09:18.278175Z",
     "shell.execute_reply": "2022-03-24T05:09:18.278639Z",
     "shell.execute_reply.started": "2022-03-23T18:02:34.684984Z"
    },
    "papermill": {
     "duration": 11.423221,
     "end_time": "2022-03-24T05:09:18.278821",
     "exception": false,
     "start_time": "2022-03-24T05:09:06.855600",
     "status": "completed"
    },
    "tags": []
   },
   "outputs": [
    {
     "name": "stderr",
     "output_type": "stream",
     "text": [
      "/opt/conda/lib/python3.7/site-packages/xgboost/sklearn.py:1224: UserWarning: The use of label encoder in XGBClassifier is deprecated and will be removed in a future release. To remove this warning, do the following: 1) Pass option use_label_encoder=False when constructing XGBClassifier object; and 2) Encode your labels (y) as integers starting with 0, i.e. 0, 1, 2, ..., [num_class - 1].\n",
      "  warnings.warn(label_encoder_deprecation_msg, UserWarning)\n",
      "/opt/conda/lib/python3.7/site-packages/xgboost/sklearn.py:1224: UserWarning: The use of label encoder in XGBClassifier is deprecated and will be removed in a future release. To remove this warning, do the following: 1) Pass option use_label_encoder=False when constructing XGBClassifier object; and 2) Encode your labels (y) as integers starting with 0, i.e. 0, 1, 2, ..., [num_class - 1].\n",
      "  warnings.warn(label_encoder_deprecation_msg, UserWarning)\n",
      "/opt/conda/lib/python3.7/site-packages/xgboost/sklearn.py:1224: UserWarning: The use of label encoder in XGBClassifier is deprecated and will be removed in a future release. To remove this warning, do the following: 1) Pass option use_label_encoder=False when constructing XGBClassifier object; and 2) Encode your labels (y) as integers starting with 0, i.e. 0, 1, 2, ..., [num_class - 1].\n",
      "  warnings.warn(label_encoder_deprecation_msg, UserWarning)\n",
      "/opt/conda/lib/python3.7/site-packages/xgboost/sklearn.py:1224: UserWarning: The use of label encoder in XGBClassifier is deprecated and will be removed in a future release. To remove this warning, do the following: 1) Pass option use_label_encoder=False when constructing XGBClassifier object; and 2) Encode your labels (y) as integers starting with 0, i.e. 0, 1, 2, ..., [num_class - 1].\n",
      "  warnings.warn(label_encoder_deprecation_msg, UserWarning)\n",
      "/opt/conda/lib/python3.7/site-packages/xgboost/sklearn.py:1224: UserWarning: The use of label encoder in XGBClassifier is deprecated and will be removed in a future release. To remove this warning, do the following: 1) Pass option use_label_encoder=False when constructing XGBClassifier object; and 2) Encode your labels (y) as integers starting with 0, i.e. 0, 1, 2, ..., [num_class - 1].\n",
      "  warnings.warn(label_encoder_deprecation_msg, UserWarning)\n",
      "/opt/conda/lib/python3.7/site-packages/xgboost/sklearn.py:1224: UserWarning: The use of label encoder in XGBClassifier is deprecated and will be removed in a future release. To remove this warning, do the following: 1) Pass option use_label_encoder=False when constructing XGBClassifier object; and 2) Encode your labels (y) as integers starting with 0, i.e. 0, 1, 2, ..., [num_class - 1].\n",
      "  warnings.warn(label_encoder_deprecation_msg, UserWarning)\n",
      "/opt/conda/lib/python3.7/site-packages/xgboost/sklearn.py:1224: UserWarning: The use of label encoder in XGBClassifier is deprecated and will be removed in a future release. To remove this warning, do the following: 1) Pass option use_label_encoder=False when constructing XGBClassifier object; and 2) Encode your labels (y) as integers starting with 0, i.e. 0, 1, 2, ..., [num_class - 1].\n",
      "  warnings.warn(label_encoder_deprecation_msg, UserWarning)\n",
      "/opt/conda/lib/python3.7/site-packages/xgboost/sklearn.py:1224: UserWarning: The use of label encoder in XGBClassifier is deprecated and will be removed in a future release. To remove this warning, do the following: 1) Pass option use_label_encoder=False when constructing XGBClassifier object; and 2) Encode your labels (y) as integers starting with 0, i.e. 0, 1, 2, ..., [num_class - 1].\n",
      "  warnings.warn(label_encoder_deprecation_msg, UserWarning)\n",
      "/opt/conda/lib/python3.7/site-packages/xgboost/sklearn.py:1224: UserWarning: The use of label encoder in XGBClassifier is deprecated and will be removed in a future release. To remove this warning, do the following: 1) Pass option use_label_encoder=False when constructing XGBClassifier object; and 2) Encode your labels (y) as integers starting with 0, i.e. 0, 1, 2, ..., [num_class - 1].\n",
      "  warnings.warn(label_encoder_deprecation_msg, UserWarning)\n",
      "/opt/conda/lib/python3.7/site-packages/xgboost/sklearn.py:1224: UserWarning: The use of label encoder in XGBClassifier is deprecated and will be removed in a future release. To remove this warning, do the following: 1) Pass option use_label_encoder=False when constructing XGBClassifier object; and 2) Encode your labels (y) as integers starting with 0, i.e. 0, 1, 2, ..., [num_class - 1].\n",
      "  warnings.warn(label_encoder_deprecation_msg, UserWarning)\n"
     ]
    }
   ],
   "source": [
    "from sklearn.model_selection import StratifiedKFold\n",
    "from sklearn.model_selection import cross_val_score\n",
    "skf = StratifiedKFold(n_splits = 10, shuffle=True, random_state=0)\n",
    "dt_score = cross_val_score(dt_clf, X_train, y_train, scoring = 'f1', cv = skf)\n",
    "lgbm_score = cross_val_score(lgbm_clf, X_train, y_train, scoring = 'f1', cv = skf)\n",
    "xgb_score = cross_val_score(xgb_clf, X_train, y_train, scoring = 'f1', cv = skf)\n"
   ]
  },
  {
   "cell_type": "code",
   "execution_count": 10,
   "id": "613a15fa",
   "metadata": {
    "execution": {
     "iopub.execute_input": "2022-03-24T05:09:18.319823Z",
     "iopub.status.busy": "2022-03-24T05:09:18.319036Z",
     "iopub.status.idle": "2022-03-24T05:09:18.322851Z",
     "shell.execute_reply": "2022-03-24T05:09:18.322268Z",
     "shell.execute_reply.started": "2022-03-23T18:04:23.422976Z"
    },
    "papermill": {
     "duration": 0.026255,
     "end_time": "2022-03-24T05:09:18.323028",
     "exception": false,
     "start_time": "2022-03-24T05:09:18.296773",
     "status": "completed"
    },
    "tags": []
   },
   "outputs": [
    {
     "name": "stdout",
     "output_type": "stream",
     "text": [
      "0.8576696024865861\n",
      "0.9426459313070497\n"
     ]
    }
   ],
   "source": [
    "print(np.mean(dt_score))\n",
    "print(np.mean(lgbm_score))"
   ]
  },
  {
   "cell_type": "code",
   "execution_count": 11,
   "id": "725cb11a",
   "metadata": {
    "execution": {
     "iopub.execute_input": "2022-03-24T05:09:18.363983Z",
     "iopub.status.busy": "2022-03-24T05:09:18.363387Z",
     "iopub.status.idle": "2022-03-24T05:09:18.383386Z",
     "shell.execute_reply": "2022-03-24T05:09:18.382737Z",
     "shell.execute_reply.started": "2022-03-23T18:09:19.754458Z"
    },
    "papermill": {
     "duration": 0.042347,
     "end_time": "2022-03-24T05:09:18.383522",
     "exception": false,
     "start_time": "2022-03-24T05:09:18.341175",
     "status": "completed"
    },
    "tags": []
   },
   "outputs": [
    {
     "data": {
      "text/html": [
       "<div>\n",
       "<style scoped>\n",
       "    .dataframe tbody tr th:only-of-type {\n",
       "        vertical-align: middle;\n",
       "    }\n",
       "\n",
       "    .dataframe tbody tr th {\n",
       "        vertical-align: top;\n",
       "    }\n",
       "\n",
       "    .dataframe thead th {\n",
       "        text-align: right;\n",
       "    }\n",
       "</style>\n",
       "<table border=\"1\" class=\"dataframe\">\n",
       "  <thead>\n",
       "    <tr style=\"text-align: right;\">\n",
       "      <th></th>\n",
       "      <th>ID</th>\n",
       "      <th>Pass</th>\n",
       "    </tr>\n",
       "  </thead>\n",
       "  <tbody>\n",
       "    <tr>\n",
       "      <th>0</th>\n",
       "      <td>8000</td>\n",
       "      <td>0</td>\n",
       "    </tr>\n",
       "    <tr>\n",
       "      <th>1</th>\n",
       "      <td>8001</td>\n",
       "      <td>0</td>\n",
       "    </tr>\n",
       "    <tr>\n",
       "      <th>2</th>\n",
       "      <td>8002</td>\n",
       "      <td>0</td>\n",
       "    </tr>\n",
       "    <tr>\n",
       "      <th>3</th>\n",
       "      <td>8003</td>\n",
       "      <td>0</td>\n",
       "    </tr>\n",
       "    <tr>\n",
       "      <th>4</th>\n",
       "      <td>8004</td>\n",
       "      <td>0</td>\n",
       "    </tr>\n",
       "  </tbody>\n",
       "</table>\n",
       "</div>"
      ],
      "text/plain": [
       "     ID  Pass\n",
       "0  8000     0\n",
       "1  8001     0\n",
       "2  8002     0\n",
       "3  8003     0\n",
       "4  8004     0"
      ]
     },
     "execution_count": 11,
     "metadata": {},
     "output_type": "execute_result"
    }
   ],
   "source": [
    "sample_submission = pd.read_csv(os.path.join(BASE_DIR, \"sample_submission.csv\"))\n",
    "sample_submission.head()"
   ]
  },
  {
   "cell_type": "code",
   "execution_count": 12,
   "id": "22025874",
   "metadata": {
    "execution": {
     "iopub.execute_input": "2022-03-24T05:09:18.429217Z",
     "iopub.status.busy": "2022-03-24T05:09:18.428579Z",
     "iopub.status.idle": "2022-03-24T05:09:18.998038Z",
     "shell.execute_reply": "2022-03-24T05:09:18.998448Z",
     "shell.execute_reply.started": "2022-03-23T18:10:24.820652Z"
    },
    "papermill": {
     "duration": 0.596264,
     "end_time": "2022-03-24T05:09:18.998617",
     "exception": false,
     "start_time": "2022-03-24T05:09:18.402353",
     "status": "completed"
    },
    "tags": []
   },
   "outputs": [
    {
     "data": {
      "text/plain": [
       "LGBMClassifier(n_estimators=500)"
      ]
     },
     "execution_count": 12,
     "metadata": {},
     "output_type": "execute_result"
    }
   ],
   "source": [
    "lgbm_clf.fit(X_train, y_train)"
   ]
  },
  {
   "cell_type": "code",
   "execution_count": 13,
   "id": "684afbb7",
   "metadata": {
    "execution": {
     "iopub.execute_input": "2022-03-24T05:09:19.039459Z",
     "iopub.status.busy": "2022-03-24T05:09:19.038820Z",
     "iopub.status.idle": "2022-03-24T05:09:19.068950Z",
     "shell.execute_reply": "2022-03-24T05:09:19.069548Z",
     "shell.execute_reply.started": "2022-03-23T18:10:26.696095Z"
    },
    "papermill": {
     "duration": 0.052404,
     "end_time": "2022-03-24T05:09:19.069746",
     "exception": false,
     "start_time": "2022-03-24T05:09:19.017342",
     "status": "completed"
    },
    "tags": []
   },
   "outputs": [],
   "source": [
    "y_pred = lgbm_clf.predict(test_data.drop('ID', axis=1))\n"
   ]
  },
  {
   "cell_type": "code",
   "execution_count": 14,
   "id": "20d13229",
   "metadata": {
    "execution": {
     "iopub.execute_input": "2022-03-24T05:09:19.114173Z",
     "iopub.status.busy": "2022-03-24T05:09:19.113346Z",
     "iopub.status.idle": "2022-03-24T05:09:19.115901Z",
     "shell.execute_reply": "2022-03-24T05:09:19.115325Z",
     "shell.execute_reply.started": "2022-03-23T18:10:50.363525Z"
    },
    "papermill": {
     "duration": 0.027373,
     "end_time": "2022-03-24T05:09:19.116047",
     "exception": false,
     "start_time": "2022-03-24T05:09:19.088674",
     "status": "completed"
    },
    "tags": []
   },
   "outputs": [],
   "source": [
    "sample_submission.loc[:, \"Pass\"] = y_pred\n",
    "sample_submission[\"Pass\"] = sample_submission[\"Pass\"].astype(int)"
   ]
  },
  {
   "cell_type": "code",
   "execution_count": 15,
   "id": "ef65f2d9",
   "metadata": {
    "execution": {
     "iopub.execute_input": "2022-03-24T05:09:19.168387Z",
     "iopub.status.busy": "2022-03-24T05:09:19.162140Z",
     "iopub.status.idle": "2022-03-24T05:09:19.171322Z",
     "shell.execute_reply": "2022-03-24T05:09:19.171715Z",
     "shell.execute_reply.started": "2022-03-23T18:10:54.528851Z"
    },
    "papermill": {
     "duration": 0.036893,
     "end_time": "2022-03-24T05:09:19.171902",
     "exception": false,
     "start_time": "2022-03-24T05:09:19.135009",
     "status": "completed"
    },
    "tags": []
   },
   "outputs": [
    {
     "data": {
      "text/html": [
       "<div>\n",
       "<style scoped>\n",
       "    .dataframe tbody tr th:only-of-type {\n",
       "        vertical-align: middle;\n",
       "    }\n",
       "\n",
       "    .dataframe tbody tr th {\n",
       "        vertical-align: top;\n",
       "    }\n",
       "\n",
       "    .dataframe thead th {\n",
       "        text-align: right;\n",
       "    }\n",
       "</style>\n",
       "<table border=\"1\" class=\"dataframe\">\n",
       "  <thead>\n",
       "    <tr style=\"text-align: right;\">\n",
       "      <th></th>\n",
       "      <th>ID</th>\n",
       "      <th>Pass</th>\n",
       "    </tr>\n",
       "  </thead>\n",
       "  <tbody>\n",
       "    <tr>\n",
       "      <th>count</th>\n",
       "      <td>2000.000000</td>\n",
       "      <td>2000.000000</td>\n",
       "    </tr>\n",
       "    <tr>\n",
       "      <th>mean</th>\n",
       "      <td>8999.500000</td>\n",
       "      <td>0.170500</td>\n",
       "    </tr>\n",
       "    <tr>\n",
       "      <th>std</th>\n",
       "      <td>577.494589</td>\n",
       "      <td>0.376166</td>\n",
       "    </tr>\n",
       "    <tr>\n",
       "      <th>min</th>\n",
       "      <td>8000.000000</td>\n",
       "      <td>0.000000</td>\n",
       "    </tr>\n",
       "    <tr>\n",
       "      <th>25%</th>\n",
       "      <td>8499.750000</td>\n",
       "      <td>0.000000</td>\n",
       "    </tr>\n",
       "    <tr>\n",
       "      <th>50%</th>\n",
       "      <td>8999.500000</td>\n",
       "      <td>0.000000</td>\n",
       "    </tr>\n",
       "    <tr>\n",
       "      <th>75%</th>\n",
       "      <td>9499.250000</td>\n",
       "      <td>0.000000</td>\n",
       "    </tr>\n",
       "    <tr>\n",
       "      <th>max</th>\n",
       "      <td>9999.000000</td>\n",
       "      <td>1.000000</td>\n",
       "    </tr>\n",
       "  </tbody>\n",
       "</table>\n",
       "</div>"
      ],
      "text/plain": [
       "                ID         Pass\n",
       "count  2000.000000  2000.000000\n",
       "mean   8999.500000     0.170500\n",
       "std     577.494589     0.376166\n",
       "min    8000.000000     0.000000\n",
       "25%    8499.750000     0.000000\n",
       "50%    8999.500000     0.000000\n",
       "75%    9499.250000     0.000000\n",
       "max    9999.000000     1.000000"
      ]
     },
     "execution_count": 15,
     "metadata": {},
     "output_type": "execute_result"
    }
   ],
   "source": [
    "sample_submission.describe()"
   ]
  },
  {
   "cell_type": "code",
   "execution_count": 16,
   "id": "391f5f5e",
   "metadata": {
    "execution": {
     "iopub.execute_input": "2022-03-24T05:09:19.215752Z",
     "iopub.status.busy": "2022-03-24T05:09:19.214896Z",
     "iopub.status.idle": "2022-03-24T05:09:19.222459Z",
     "shell.execute_reply": "2022-03-24T05:09:19.221927Z",
     "shell.execute_reply.started": "2022-03-23T18:10:58.844976Z"
    },
    "papermill": {
     "duration": 0.030816,
     "end_time": "2022-03-24T05:09:19.222588",
     "exception": false,
     "start_time": "2022-03-24T05:09:19.191772",
     "status": "completed"
    },
    "tags": []
   },
   "outputs": [],
   "source": [
    "sample_submission.to_csv(\"result.csv\", index =False)"
   ]
  },
  {
   "cell_type": "code",
   "execution_count": null,
   "id": "85ceb4cb",
   "metadata": {
    "papermill": {
     "duration": 0.019162,
     "end_time": "2022-03-24T05:09:19.261562",
     "exception": false,
     "start_time": "2022-03-24T05:09:19.242400",
     "status": "completed"
    },
    "tags": []
   },
   "outputs": [],
   "source": []
  }
 ],
 "metadata": {
  "kernelspec": {
   "display_name": "Python 3",
   "language": "python",
   "name": "python3"
  },
  "language_info": {
   "codemirror_mode": {
    "name": "ipython",
    "version": 3
   },
   "file_extension": ".py",
   "mimetype": "text/x-python",
   "name": "python",
   "nbconvert_exporter": "python",
   "pygments_lexer": "ipython3",
   "version": "3.7.12"
  },
  "papermill": {
   "default_parameters": {},
   "duration": 24.261369,
   "end_time": "2022-03-24T05:09:19.991831",
   "environment_variables": {},
   "exception": null,
   "input_path": "__notebook__.ipynb",
   "output_path": "__notebook__.ipynb",
   "parameters": {},
   "start_time": "2022-03-24T05:08:55.730462",
   "version": "2.3.3"
  }
 },
 "nbformat": 4,
 "nbformat_minor": 5
}

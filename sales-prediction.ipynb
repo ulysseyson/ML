{
 "cells": [
  {
   "cell_type": "markdown",
   "id": "5ee71a85",
   "metadata": {},
   "source": [
    "\n",
    "## First time-based data using Prophet\n",
    "\n",
    "- still I don't use parameter tuning tool ex) optuna gridCV"
   ]
  },
  {
   "cell_type": "code",
   "execution_count": 1,
   "id": "d6c71909",
   "metadata": {
    "_cell_guid": "b1076dfc-b9ad-4769-8c92-a6c4dae69d19",
    "_uuid": "8f2839f25d086af736a60e9eeb907d3b93b6e0e5",
    "execution": {
     "iopub.execute_input": "2022-05-03T22:45:01.689334Z",
     "iopub.status.busy": "2022-05-03T22:45:01.688924Z",
     "iopub.status.idle": "2022-05-03T22:45:01.749982Z",
     "shell.execute_reply": "2022-05-03T22:45:01.748993Z"
    },
    "papermill": {
     "duration": 0.098137,
     "end_time": "2022-05-03T22:45:01.752515",
     "exception": true,
     "start_time": "2022-05-03T22:45:01.654378",
     "status": "failed"
    },
    "tags": []
   },
   "outputs": [
    {
     "ename": "ModuleNotFoundError",
     "evalue": "No module named 'cudf'",
     "output_type": "error",
     "traceback": [
      "\u001b[0;31m---------------------------------------------------------------------------\u001b[0m",
      "\u001b[0;31mModuleNotFoundError\u001b[0m                       Traceback (most recent call last)",
      "\u001b[0;32m/tmp/ipykernel_19/1187424201.py\u001b[0m in \u001b[0;36m<module>\u001b[0;34m\u001b[0m\n\u001b[1;32m      5\u001b[0m \u001b[0;32mimport\u001b[0m \u001b[0mnumpy\u001b[0m \u001b[0;32mas\u001b[0m \u001b[0mnp\u001b[0m \u001b[0;31m# linear algebra\u001b[0m\u001b[0;34m\u001b[0m\u001b[0;34m\u001b[0m\u001b[0m\n\u001b[1;32m      6\u001b[0m \u001b[0;32mimport\u001b[0m \u001b[0mpandas\u001b[0m \u001b[0;32mas\u001b[0m \u001b[0mpd\u001b[0m \u001b[0;31m# data processing, CSV file I/O (e.g. pd.read_csv)\u001b[0m\u001b[0;34m\u001b[0m\u001b[0;34m\u001b[0m\u001b[0m\n\u001b[0;32m----> 7\u001b[0;31m \u001b[0;32mimport\u001b[0m \u001b[0mcudf\u001b[0m\u001b[0;34m\u001b[0m\u001b[0;34m\u001b[0m\u001b[0m\n\u001b[0m\u001b[1;32m      8\u001b[0m \u001b[0;34m\u001b[0m\u001b[0m\n\u001b[1;32m      9\u001b[0m \u001b[0;31m# Input data files are available in the read-only \"../input/\" directory\u001b[0m\u001b[0;34m\u001b[0m\u001b[0;34m\u001b[0m\u001b[0;34m\u001b[0m\u001b[0m\n",
      "\u001b[0;31mModuleNotFoundError\u001b[0m: No module named 'cudf'"
     ]
    }
   ],
   "source": [
    "# This Python 3 environment comes with many helpful analytics libraries installed\n",
    "# It is defined by the kaggle/python Docker image: https://github.com/kaggle/docker-python\n",
    "# For example, here's several helpful packages to load\n",
    "\n",
    "import numpy as np # linear algebra\n",
    "import pandas as pd # data processing, CSV file I/O (e.g. pd.read_csv)\n",
    "import cudf\n",
    "\n",
    "# Input data files are available in the read-only \"../input/\" directory\n",
    "# For example, running this (by clicking run or pressing Shift+Enter) will list all files under the input directory\n",
    "\n",
    "import os\n",
    "for dirname, _, filenames in os.walk('/kaggle/input'):\n",
    "    for filename in filenames:\n",
    "        print(os.path.join(dirname, filename))\n",
    "\n",
    "# You can write up to 20GB to the current directory (/kaggle/working/) that gets preserved as output when you create a version using \"Save & Run All\" \n",
    "# You can also write temporary files to /kaggle/temp/, but they won't be saved outside of the current session"
   ]
  },
  {
   "cell_type": "markdown",
   "id": "20a38732",
   "metadata": {
    "papermill": {
     "duration": null,
     "end_time": null,
     "exception": null,
     "start_time": null,
     "status": "pending"
    },
    "tags": []
   },
   "source": [
    "## Simle store split & basic prophet ##\n",
    "\n",
    "당장 생각나는 방법은 store별로 나눠서 df 생성 후 각각 prophet으로 만들고 넣기..\n",
    "\n",
    "> 합체는 id기준으로 해야할텐데, 어떻게 하는게 가장 효율적일지.. 우선 data 에서 store_id의 순서를 알 필요가 있을듯"
   ]
  },
  {
   "cell_type": "code",
   "execution_count": null,
   "id": "ba8a408c",
   "metadata": {
    "execution": {
     "iopub.execute_input": "2022-05-03T18:18:43.555349Z",
     "iopub.status.busy": "2022-05-03T18:18:43.555098Z",
     "iopub.status.idle": "2022-05-03T18:18:43.721733Z",
     "shell.execute_reply": "2022-05-03T18:18:43.720829Z",
     "shell.execute_reply.started": "2022-05-03T18:18:43.555319Z"
    },
    "papermill": {
     "duration": null,
     "end_time": null,
     "exception": null,
     "start_time": null,
     "status": "pending"
    },
    "tags": []
   },
   "outputs": [],
   "source": [
    "train = cudf.read_csv(\"/kaggle/input/devkor-sales-prediction/train.csv\")\n",
    "test = cudf.read_csv(\"/kaggle/input/devkor-sales-prediction/test.csv\")\n",
    "oil = pd.read_csv(\"/kaggle/input/devkor-sales-prediction/oil.csv\")\n",
    "holidays = pd.read_csv(\"/kaggle/input/devkor-sales-prediction/holidays.csv\")\n",
    "stores = pd.read_csv(\"/kaggle/input/devkor-sales-prediction/store.csv\")\n",
    "transactions = pd.read_csv(\"/kaggle/input/devkor-sales-prediction/transactions.csv\")\n",
    "submission = pd.read_csv(\"/kaggle/input/devkor-sales-prediction/sample_submission.csv\")"
   ]
  },
  {
   "cell_type": "code",
   "execution_count": null,
   "id": "2c2c9a26",
   "metadata": {
    "execution": {
     "iopub.execute_input": "2022-05-03T18:18:43.724447Z",
     "iopub.status.busy": "2022-05-03T18:18:43.724095Z",
     "iopub.status.idle": "2022-05-03T18:18:43.761372Z",
     "shell.execute_reply": "2022-05-03T18:18:43.759366Z",
     "shell.execute_reply.started": "2022-05-03T18:18:43.724387Z"
    },
    "papermill": {
     "duration": null,
     "end_time": null,
     "exception": null,
     "start_time": null,
     "status": "pending"
    },
    "tags": []
   },
   "outputs": [],
   "source": [
    "train.tail()"
   ]
  },
  {
   "cell_type": "code",
   "execution_count": null,
   "id": "33c371e4",
   "metadata": {
    "execution": {
     "iopub.execute_input": "2022-05-03T18:18:43.763462Z",
     "iopub.status.busy": "2022-05-03T18:18:43.763124Z",
     "iopub.status.idle": "2022-05-03T18:18:43.791134Z",
     "shell.execute_reply": "2022-05-03T18:18:43.789909Z",
     "shell.execute_reply.started": "2022-05-03T18:18:43.763417Z"
    },
    "papermill": {
     "duration": null,
     "end_time": null,
     "exception": null,
     "start_time": null,
     "status": "pending"
    },
    "tags": []
   },
   "outputs": [],
   "source": [
    "test.tail()"
   ]
  },
  {
   "cell_type": "code",
   "execution_count": null,
   "id": "d1f79b1c",
   "metadata": {
    "execution": {
     "iopub.execute_input": "2022-05-03T18:18:43.794206Z",
     "iopub.status.busy": "2022-05-03T18:18:43.793876Z",
     "iopub.status.idle": "2022-05-03T18:18:43.802744Z",
     "shell.execute_reply": "2022-05-03T18:18:43.801452Z",
     "shell.execute_reply.started": "2022-05-03T18:18:43.794163Z"
    },
    "papermill": {
     "duration": null,
     "end_time": null,
     "exception": null,
     "start_time": null,
     "status": "pending"
    },
    "tags": []
   },
   "outputs": [],
   "source": [
    "import pandas as pd\n",
    "import numpy as np\n",
    "import matplotlib.pyplot as plt\n",
    "import seaborn as sns\n",
    "import warnings\n",
    "import os\n",
    "%matplotlib inline\n",
    "warnings.filterwarnings('ignore')\n",
    "\n",
    "from fbprophet import Prophet\n",
    "from fbprophet.plot import plot_plotly, plot_components_plotly\n"
   ]
  },
  {
   "cell_type": "code",
   "execution_count": null,
   "id": "f570eb54",
   "metadata": {
    "execution": {
     "iopub.execute_input": "2022-05-03T18:18:43.806134Z",
     "iopub.status.busy": "2022-05-03T18:18:43.805366Z",
     "iopub.status.idle": "2022-05-03T18:18:43.906660Z",
     "shell.execute_reply": "2022-05-03T18:18:43.905763Z",
     "shell.execute_reply.started": "2022-05-03T18:18:43.806088Z"
    },
    "papermill": {
     "duration": null,
     "end_time": null,
     "exception": null,
     "start_time": null,
     "status": "pending"
    },
    "tags": []
   },
   "outputs": [],
   "source": [
    "p_list = train['product_type'].unique().to_pandas().tolist()\n",
    "s_list = train['store_id'].unique().to_pandas().tolist()"
   ]
  },
  {
   "cell_type": "code",
   "execution_count": null,
   "id": "676e4ed6",
   "metadata": {
    "execution": {
     "iopub.execute_input": "2022-05-03T18:18:43.908557Z",
     "iopub.status.busy": "2022-05-03T18:18:43.908145Z",
     "iopub.status.idle": "2022-05-03T18:18:44.098015Z",
     "shell.execute_reply": "2022-05-03T18:18:44.097041Z",
     "shell.execute_reply.started": "2022-05-03T18:18:43.908513Z"
    },
    "papermill": {
     "duration": null,
     "end_time": null,
     "exception": null,
     "start_time": null,
     "status": "pending"
    },
    "tags": []
   },
   "outputs": [],
   "source": [
    "stores = []\n",
    "for i in s_list:\n",
    "    stores.append(train.loc[train['store_id'] == i])"
   ]
  },
  {
   "cell_type": "code",
   "execution_count": null,
   "id": "0d6142e4",
   "metadata": {
    "execution": {
     "iopub.execute_input": "2022-05-03T18:18:44.101407Z",
     "iopub.status.busy": "2022-05-03T18:18:44.101054Z",
     "iopub.status.idle": "2022-05-03T18:18:44.135063Z",
     "shell.execute_reply": "2022-05-03T18:18:44.133912Z",
     "shell.execute_reply.started": "2022-05-03T18:18:44.101338Z"
    },
    "papermill": {
     "duration": null,
     "end_time": null,
     "exception": null,
     "start_time": null,
     "status": "pending"
    },
    "tags": []
   },
   "outputs": [],
   "source": [
    "stores[0].head()"
   ]
  },
  {
   "cell_type": "code",
   "execution_count": null,
   "id": "7f9cf6bc",
   "metadata": {
    "execution": {
     "iopub.execute_input": "2022-05-03T18:18:44.137300Z",
     "iopub.status.busy": "2022-05-03T18:18:44.136879Z",
     "iopub.status.idle": "2022-05-03T18:18:44.142863Z",
     "shell.execute_reply": "2022-05-03T18:18:44.141536Z",
     "shell.execute_reply.started": "2022-05-03T18:18:44.137252Z"
    },
    "papermill": {
     "duration": null,
     "end_time": null,
     "exception": null,
     "start_time": null,
     "status": "pending"
    },
    "tags": []
   },
   "outputs": [],
   "source": [
    "s_list.sort()"
   ]
  },
  {
   "cell_type": "code",
   "execution_count": null,
   "id": "5764e060",
   "metadata": {
    "execution": {
     "iopub.execute_input": "2022-05-03T18:18:44.145482Z",
     "iopub.status.busy": "2022-05-03T18:18:44.144789Z",
     "iopub.status.idle": "2022-05-03T18:18:44.156304Z",
     "shell.execute_reply": "2022-05-03T18:18:44.155082Z",
     "shell.execute_reply.started": "2022-05-03T18:18:44.145437Z"
    },
    "papermill": {
     "duration": null,
     "end_time": null,
     "exception": null,
     "start_time": null,
     "status": "pending"
    },
    "tags": []
   },
   "outputs": [],
   "source": [
    "len(s_list), len(p_list)"
   ]
  },
  {
   "cell_type": "code",
   "execution_count": null,
   "id": "3ead742b",
   "metadata": {
    "execution": {
     "iopub.execute_input": "2022-05-03T18:18:44.159019Z",
     "iopub.status.busy": "2022-05-03T18:18:44.158665Z",
     "iopub.status.idle": "2022-05-03T18:18:44.169214Z",
     "shell.execute_reply": "2022-05-03T18:18:44.168050Z",
     "shell.execute_reply.started": "2022-05-03T18:18:44.158973Z"
    },
    "papermill": {
     "duration": null,
     "end_time": null,
     "exception": null,
     "start_time": null,
     "status": "pending"
    },
    "tags": []
   },
   "outputs": [],
   "source": [
    "type(train)"
   ]
  },
  {
   "cell_type": "code",
   "execution_count": null,
   "id": "c2d80eb8",
   "metadata": {
    "execution": {
     "iopub.execute_input": "2022-05-03T18:18:44.171160Z",
     "iopub.status.busy": "2022-05-03T18:18:44.170507Z",
     "iopub.status.idle": "2022-05-03T18:18:44.177014Z",
     "shell.execute_reply": "2022-05-03T18:18:44.175797Z",
     "shell.execute_reply.started": "2022-05-03T18:18:44.171113Z"
    },
    "papermill": {
     "duration": null,
     "end_time": null,
     "exception": null,
     "start_time": null,
     "status": "pending"
    },
    "tags": []
   },
   "outputs": [],
   "source": [
    "from tqdm import tqdm"
   ]
  },
  {
   "cell_type": "code",
   "execution_count": null,
   "id": "cd19f4b8",
   "metadata": {
    "execution": {
     "iopub.execute_input": "2022-05-03T18:18:44.179869Z",
     "iopub.status.busy": "2022-05-03T18:18:44.179275Z",
     "iopub.status.idle": "2022-05-03T18:19:04.334786Z",
     "shell.execute_reply": "2022-05-03T18:19:04.333602Z",
     "shell.execute_reply.started": "2022-05-03T18:18:44.179821Z"
    },
    "papermill": {
     "duration": null,
     "end_time": null,
     "exception": null,
     "start_time": null,
     "status": "pending"
    },
    "tags": []
   },
   "outputs": [],
   "source": [
    "storess = []\n",
    "for i in tqdm(s_list):\n",
    "    storess.append({})\n",
    "    for j in p_list:\n",
    "        storess[i-1][j] = train.loc[(train['store_id'] == i) & (train['product_type'] == j)]\n",
    "        \n",
    "    "
   ]
  },
  {
   "cell_type": "code",
   "execution_count": null,
   "id": "ade4e1ca",
   "metadata": {
    "execution": {
     "iopub.execute_input": "2022-05-03T18:19:04.336905Z",
     "iopub.status.busy": "2022-05-03T18:19:04.336567Z",
     "iopub.status.idle": "2022-05-03T18:19:04.371467Z",
     "shell.execute_reply": "2022-05-03T18:19:04.370431Z",
     "shell.execute_reply.started": "2022-05-03T18:19:04.336849Z"
    },
    "papermill": {
     "duration": null,
     "end_time": null,
     "exception": null,
     "start_time": null,
     "status": "pending"
    },
    "tags": []
   },
   "outputs": [],
   "source": [
    "storess[0]['AUTOMOTIVE'].tail()"
   ]
  },
  {
   "cell_type": "code",
   "execution_count": null,
   "id": "5ce79046",
   "metadata": {
    "execution": {
     "iopub.execute_input": "2022-05-03T18:19:04.375858Z",
     "iopub.status.busy": "2022-05-03T18:19:04.375614Z",
     "iopub.status.idle": "2022-05-03T18:19:04.416953Z",
     "shell.execute_reply": "2022-05-03T18:19:04.415760Z",
     "shell.execute_reply.started": "2022-05-03T18:19:04.375807Z"
    },
    "papermill": {
     "duration": null,
     "end_time": null,
     "exception": null,
     "start_time": null,
     "status": "pending"
    },
    "tags": []
   },
   "outputs": [],
   "source": [
    "test.loc[:, 'sales'] = 0.0\n",
    "test.loc[:, 'date'] = pd.to_datetime(test['date'].to_pandas())\n",
    "test.head()"
   ]
  },
  {
   "cell_type": "markdown",
   "id": "2dfdc7c1",
   "metadata": {
    "papermill": {
     "duration": null,
     "end_time": null,
     "exception": null,
     "start_time": null,
     "status": "pending"
    },
    "tags": []
   },
   "source": [
    "*  의도한대로 store_id와 product_type 별로 잘 데이터가 분리가 되었다.\n",
    "*  각 fitting을 시켜보자."
   ]
  },
  {
   "cell_type": "code",
   "execution_count": null,
   "id": "f9195ec1",
   "metadata": {
    "execution": {
     "iopub.execute_input": "2022-05-03T18:19:04.419318Z",
     "iopub.status.busy": "2022-05-03T18:19:04.418984Z",
     "iopub.status.idle": "2022-05-03T18:19:04.456304Z",
     "shell.execute_reply": "2022-05-03T18:19:04.455444Z",
     "shell.execute_reply.started": "2022-05-03T18:19:04.419276Z"
    },
    "papermill": {
     "duration": null,
     "end_time": null,
     "exception": null,
     "start_time": null,
     "status": "pending"
    },
    "tags": []
   },
   "outputs": [],
   "source": [
    "test.loc[(test['store_id']==1) & (test['product_type']=='AUTOMOTIVE')]"
   ]
  },
  {
   "cell_type": "code",
   "execution_count": null,
   "id": "0a9b20d6",
   "metadata": {
    "execution": {
     "iopub.execute_input": "2022-05-03T18:19:04.458384Z",
     "iopub.status.busy": "2022-05-03T18:19:04.457999Z",
     "iopub.status.idle": "2022-05-03T18:19:04.463491Z",
     "shell.execute_reply": "2022-05-03T18:19:04.461923Z",
     "shell.execute_reply.started": "2022-05-03T18:19:04.458342Z"
    },
    "papermill": {
     "duration": null,
     "end_time": null,
     "exception": null,
     "start_time": null,
     "status": "pending"
    },
    "tags": []
   },
   "outputs": [],
   "source": [
    "# m = Prophet(changepoint_prior_scale=0.3)\n",
    "\n",
    "# df = storess[0]['AUTOMOTIVE'][['date', 'sales']]\n",
    "# df.columns = ['ds', 'y']\n",
    "# m.fit(df.to_pandas())\n",
    "        \n",
    "# future = m.make_future_dataframe(periods=15)\n",
    "# y_pred = m.predict(future)\n",
    "# predict = y_pred.tail(15)\n",
    "\n"
   ]
  },
  {
   "cell_type": "code",
   "execution_count": null,
   "id": "f5cf0ba0",
   "metadata": {
    "execution": {
     "iopub.execute_input": "2022-05-03T18:19:04.466489Z",
     "iopub.status.busy": "2022-05-03T18:19:04.465882Z",
     "iopub.status.idle": "2022-05-03T18:19:04.474763Z",
     "shell.execute_reply": "2022-05-03T18:19:04.473625Z",
     "shell.execute_reply.started": "2022-05-03T18:19:04.466445Z"
    },
    "papermill": {
     "duration": null,
     "end_time": null,
     "exception": null,
     "start_time": null,
     "status": "pending"
    },
    "tags": []
   },
   "outputs": [],
   "source": [
    "# test.loc[(test['store_id']==1) & (test['product_type']=='AUTOMOTIVE'), \"sales\"]"
   ]
  },
  {
   "cell_type": "code",
   "execution_count": null,
   "id": "b44dd213",
   "metadata": {
    "execution": {
     "iopub.execute_input": "2022-05-03T18:19:04.476955Z",
     "iopub.status.busy": "2022-05-03T18:19:04.476275Z",
     "iopub.status.idle": "2022-05-03T18:19:04.485901Z",
     "shell.execute_reply": "2022-05-03T18:19:04.484936Z",
     "shell.execute_reply.started": "2022-05-03T18:19:04.476874Z"
    },
    "papermill": {
     "duration": null,
     "end_time": null,
     "exception": null,
     "start_time": null,
     "status": "pending"
    },
    "tags": []
   },
   "outputs": [],
   "source": [
    "# test.loc[(test['store_id']==1) & (test['product_type']=='AUTOMOTIVE'), \"sales\"] = predict['yhat'].to_list()"
   ]
  },
  {
   "cell_type": "code",
   "execution_count": null,
   "id": "b3fbc145",
   "metadata": {
    "execution": {
     "iopub.execute_input": "2022-05-03T18:19:04.488469Z",
     "iopub.status.busy": "2022-05-03T18:19:04.487757Z",
     "iopub.status.idle": "2022-05-03T18:19:04.495834Z",
     "shell.execute_reply": "2022-05-03T18:19:04.494846Z",
     "shell.execute_reply.started": "2022-05-03T18:19:04.488411Z"
    },
    "papermill": {
     "duration": null,
     "end_time": null,
     "exception": null,
     "start_time": null,
     "status": "pending"
    },
    "tags": []
   },
   "outputs": [],
   "source": [
    "# test.loc[(test['store_id']==1) & (test['product_type']=='AUTOMOTIVE'), \"sales\"]"
   ]
  },
  {
   "cell_type": "code",
   "execution_count": null,
   "id": "dd61bcd6",
   "metadata": {
    "execution": {
     "iopub.execute_input": "2022-05-03T18:19:04.498698Z",
     "iopub.status.busy": "2022-05-03T18:19:04.498050Z",
     "iopub.status.idle": "2022-05-03T18:19:04.511115Z",
     "shell.execute_reply": "2022-05-03T18:19:04.510046Z",
     "shell.execute_reply.started": "2022-05-03T18:19:04.498655Z"
    },
    "papermill": {
     "duration": null,
     "end_time": null,
     "exception": null,
     "start_time": null,
     "status": "pending"
    },
    "tags": []
   },
   "outputs": [],
   "source": [
    "class supprpredictdout_stderr(object):\n",
    "    '''\n",
    "    A context manager for doing a \"deep suppression\" of stdout and stderr in\n",
    "    Python, i.e. will suppress all print, even if the print originates in a\n",
    "    compiled C/Fortran sub-function.\n",
    "       This will not suppress raised exceptions, since exceptions are printed\n",
    "    to stderr just before a script exits, and after the context manager has\n",
    "    exited (at least, I think that is why it lets exceptions through).\n",
    "\n",
    "    '''\n",
    "    def __init__(self):\n",
    "        # Open a pair of null files\n",
    "        self.null_fds = [os.open(os.devnull, os.O_RDWR) for x in range(2)]\n",
    "        # Save the actual stdout (1) and stderr (2) file descriptors.\n",
    "        self.save_fds = (os.dup(1), os.dup(2))\n",
    "\n",
    "    def __enter__(self):\n",
    "        # Assign the null pointers to stdout and stderr.\n",
    "        os.dup2(self.null_fds[0], 1)\n",
    "        os.dup2(self.null_fds[1], 2)\n",
    "\n",
    "    def __exit__(self, *_):\n",
    "        # Re-assign the real stdout/stderr back to (1) and (2)\n",
    "        os.dup2(self.save_fds[0], 1)\n",
    "        os.dup2(self.save_fds[1], 2)\n",
    "        # Close the null files\n",
    "        os.close(self.null_fds[0])\n",
    "        os.close(self.null_fds[1])"
   ]
  },
  {
   "cell_type": "code",
   "execution_count": null,
   "id": "c01796fe",
   "metadata": {
    "execution": {
     "iopub.execute_input": "2022-05-03T18:19:04.513980Z",
     "iopub.status.busy": "2022-05-03T18:19:04.513121Z"
    },
    "papermill": {
     "duration": null,
     "end_time": null,
     "exception": null,
     "start_time": null,
     "status": "pending"
    },
    "tags": []
   },
   "outputs": [],
   "source": [
    "for i in tqdm(range(len(s_list))):\n",
    "    for j in p_list:\n",
    "        df = storess[i][j][['date', 'sales']]\n",
    "        df.columns = ['ds', 'y']\n",
    "        with suppress_stdout_stderr():\n",
    "            m = Prophet(changepoint_prior_scale=0.3)\n",
    "            m.add_seasonality(name='monthly', period=30.5, fourier_order=5)\n",
    "            m.fit(df.to_pandas())\n",
    "\n",
    "        future = m.make_future_dataframe(periods=15)\n",
    "        y_pred = m.predict(future)\n",
    "        predict = y_pred.tail(15)\n",
    "        test.loc[(test['store_id']==i+1) & (test['product_type']==j), \"sales\"] = predict['yhat'].to_list()"
   ]
  },
  {
   "cell_type": "code",
   "execution_count": null,
   "id": "b8854080",
   "metadata": {
    "papermill": {
     "duration": null,
     "end_time": null,
     "exception": null,
     "start_time": null,
     "status": "pending"
    },
    "tags": []
   },
   "outputs": [],
   "source": [
    "test.loc[(test['store_id']==1) & (test['product_type']==p_list[7]), \"sales\"]"
   ]
  },
  {
   "cell_type": "code",
   "execution_count": null,
   "id": "cae66bf4",
   "metadata": {
    "papermill": {
     "duration": null,
     "end_time": null,
     "exception": null,
     "start_time": null,
     "status": "pending"
    },
    "tags": []
   },
   "outputs": [],
   "source": [
    "submission.loc[:, \"sales\"] = test.to_pandas().loc[:, \"sales\"].to_list()\n",
    "submission.to_csv(\"submission.csv\", index=False)"
   ]
  },
  {
   "cell_type": "code",
   "execution_count": null,
   "id": "16e04d0e",
   "metadata": {
    "papermill": {
     "duration": null,
     "end_time": null,
     "exception": null,
     "start_time": null,
     "status": "pending"
    },
    "tags": []
   },
   "outputs": [],
   "source": []
  }
 ],
 "metadata": {
  "kernelspec": {
   "display_name": "Python 3",
   "language": "python",
   "name": "python3"
  },
  "language_info": {
   "codemirror_mode": {
    "name": "ipython",
    "version": 3
   },
   "file_extension": ".py",
   "mimetype": "text/x-python",
   "name": "python",
   "nbconvert_exporter": "python",
   "pygments_lexer": "ipython3",
   "version": "3.7.12"
  },
  "papermill": {
   "default_parameters": {},
   "duration": 8.947697,
   "end_time": "2022-05-03T22:45:02.606554",
   "environment_variables": {},
   "exception": true,
   "input_path": "__notebook__.ipynb",
   "output_path": "__notebook__.ipynb",
   "parameters": {},
   "start_time": "2022-05-03T22:44:53.658857",
   "version": "2.3.4"
  }
 },
 "nbformat": 4,
 "nbformat_minor": 5
}
